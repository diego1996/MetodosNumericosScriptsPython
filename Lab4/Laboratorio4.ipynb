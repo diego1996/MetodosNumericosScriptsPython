{
 "cells": [
  {
   "cell_type": "code",
   "execution_count": 1,
   "metadata": {
    "collapsed": false
   },
   "outputs": [
    {
     "name": "stdout",
     "output_type": "stream",
     "text": [
      "0\t\t1.0\t\t0.0\t\t100.0\n",
      "1\t\t1.0\t\t0.0\t\t0.0\n"
     ]
    }
   ],
   "source": [
    "import math\n",
    "\n",
    "e=0.0\n",
    "n=0\n",
    "Et=0.0\n",
    "et=0.0\n",
    "ea=0.0\n",
    "es=0.05\n",
    "while True:\n",
    "    e2=e\n",
    "    e += (math.pow(1/2, n)) / math.factorial(n)\n",
    "    Et = (math.exp(1/2)) - e\n",
    "    et = (Et / e) * 100\n",
    "    ea = ((e - e2) / e) * 100\n",
    "    n = n + 1\n",
    "    cont = n - 1\n",
    "    print (str(cont)+\"\\t\\t\"+str(e)+\"\\t\\t\"+str(et)+\"\\t\\t\"+str(ea))\n",
    "    if str(ea)<=str(es):\n",
    "        break\n"
   ]
  },
  {
   "cell_type": "code",
   "execution_count": null,
   "metadata": {
    "collapsed": true
   },
   "outputs": [],
   "source": []
  }
 ],
 "metadata": {
  "kernelspec": {
   "display_name": "Python 2",
   "language": "python",
   "name": "python2"
  },
  "language_info": {
   "codemirror_mode": {
    "name": "ipython",
    "version": 2
   },
   "file_extension": ".py",
   "mimetype": "text/x-python",
   "name": "python",
   "nbconvert_exporter": "python",
   "pygments_lexer": "ipython2",
   "version": "2.7.10"
  }
 },
 "nbformat": 4,
 "nbformat_minor": 0
}
