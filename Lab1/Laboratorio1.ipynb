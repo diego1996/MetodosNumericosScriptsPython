{
 "cells": [
  {
   "cell_type": "code",
   "execution_count": 1,
   "metadata": {
    "collapsed": false
   },
   "outputs": [
    {
     "name": "stdout",
     "output_type": "stream",
     "text": [
      "Tiempo: 0\tVelocidad 0.0\n",
      "Tiempo: 1\tVelocidad 8.9531822079\n",
      "Tiempo: 2\tVelocidad 16.4049808029\n",
      "Tiempo: 3\tVelocidad 22.6071669095\n",
      "Tiempo: 4\tVelocidad 27.7692914639\n",
      "Tiempo: 5\tVelocidad 32.0657652324\n",
      "Tiempo: 6\tVelocidad 35.6417515631\n",
      "Tiempo: 7\tVelocidad 38.6180709651\n",
      "Tiempo: 8\tVelocidad 41.0952832258\n",
      "Tiempo: 9\tVelocidad 43.1570849869\n",
      "Tiempo: 10\tVelocidad 44.8731375713\n",
      "Tiempo: 11\tVelocidad 46.3014206042\n",
      "Tiempo: 12\tVelocidad 47.4901909486\n",
      "Tiempo: 13\tVelocidad 48.4796131425\n",
      "Tiempo: 14\tVelocidad 49.3031164225\n",
      "Tiempo: 15\tVelocidad 49.988524185\n",
      "Tiempo: 16\tVelocidad 50.5589940452\n",
      "Tiempo: 17\tVelocidad 51.0338002541\n",
      "Tiempo: 18\tVelocidad 51.4289849112\n",
      "Tiempo: 19\tVelocidad 51.7578999723\n",
      "Tiempo: 20\tVelocidad 52.0316583671\n",
      "Tiempo: 21\tVelocidad 52.2595094679\n",
      "Tiempo: 22\tVelocidad 52.4491515944\n",
      "Tiempo: 23\tVelocidad 52.606992114\n",
      "Tiempo: 24\tVelocidad 52.7383639252\n",
      "Tiempo: 25\tVelocidad 52.847705638\n",
      "Tiempo: 26\tVelocidad 52.9387115399\n",
      "Tiempo: 27\tVelocidad 53.0144564132\n",
      "Tiempo: 28\tVelocidad 53.0774994216\n",
      "Tiempo: 29\tVelocidad 53.1299705754\n",
      "Tiempo: 30\tVelocidad 53.1736426979\n",
      "Tiempo: 31\tVelocidad 53.2099913228\n",
      "Tiempo: 32\tVelocidad 53.2402445473\n",
      "Tiempo: 33\tVelocidad 53.2654245259\n",
      "Tiempo: 34\tVelocidad 53.286382005\n",
      "Tiempo: 35\tVelocidad 53.3038250671\n",
      "Tiempo: 36\tVelocidad 53.3183430544\n",
      "Tiempo: 37\tVelocidad 53.3304264807\n",
      "Tiempo: 38\tVelocidad 53.3404836042\n",
      "Tiempo: 39\tVelocidad 53.3488542211\n",
      "Tiempo: 40\tVelocidad 53.3558211464\n",
      "Tiempo: 41\tVelocidad 53.3616197689\n",
      "Tiempo: 42\tVelocidad 53.3664460046\n",
      "Tiempo: 43\tVelocidad 53.3704629156\n",
      "Tiempo: 44\tVelocidad 53.3738062198\n",
      "Tiempo: 45\tVelocidad 53.3765888762\n",
      "Tiempo: 46\tVelocidad 53.3789049013\n",
      "Tiempo: 47\tVelocidad 53.3808325459\n",
      "Tiempo: 48\tVelocidad 53.3824369384\n",
      "Tiempo: 49\tVelocidad 53.383772286\n",
      "Tiempo: 50\tVelocidad 53.3848837055\n",
      "Tiempo: 51\tVelocidad 53.385808748\n",
      "Tiempo: 52\tVelocidad 53.3865786676\n",
      "Tiempo: 53\tVelocidad 53.3872194773\n",
      "Tiempo: 54\tVelocidad 53.3877528278\n",
      "Tiempo: 55\tVelocidad 53.3881967394\n",
      "Tiempo: 56\tVelocidad 53.3885662102\n",
      "Tiempo: 57\tVelocidad 53.3888737234\n",
      "Tiempo: 58\tVelocidad 53.3891296689\n",
      "Tiempo: 59\tVelocidad 53.3893426942\n"
     ]
    }
   ],
   "source": [
    "import math\n",
    "\n",
    "gravedad = 9.8\n",
    "masa = 68.1\n",
    "c = 12.5\n",
    "\n",
    "for t in range(60):\n",
    "    velocidad = ((gravedad*masa)/c)*(1-(math.exp((-c/masa)*t)))\n",
    "    print \"Tiempo: \"+str(t) + \"\\tVelocidad \" + str(velocidad)"
   ]
  },
  {
   "cell_type": "code",
   "execution_count": null,
   "metadata": {
    "collapsed": true
   },
   "outputs": [],
   "source": []
  }
 ],
 "metadata": {
  "kernelspec": {
   "display_name": "Python 2",
   "language": "python",
   "name": "python2"
  },
  "language_info": {
   "codemirror_mode": {
    "name": "ipython",
    "version": 2
   },
   "file_extension": ".py",
   "mimetype": "text/x-python",
   "name": "python",
   "nbconvert_exporter": "python",
   "pygments_lexer": "ipython2",
   "version": "2.7.10"
  }
 },
 "nbformat": 4,
 "nbformat_minor": 0
}
