{
 "cells": [
  {
   "cell_type": "code",
   "execution_count": null,
   "metadata": {
    "collapsed": false
   },
   "outputs": [
    {
     "name": "stdout",
     "output_type": "stream",
     "text": [
      "Solucion Lineal: 0.0 \t\t Solucion por Metodos Numericos 0.0\n",
      "Solucion Lineal: 8.9531822079 \t\t Solucion por Metodos Numericos 19.6\n",
      "Solucion Lineal: 16.4049808029 \t\t Solucion por Metodos Numericos 32.0046989721\n",
      "Solucion Lineal: 22.6071669095 \t\t Solucion por Metodos Numericos 39.855543696\n",
      "Solucion Lineal: 27.7692914639 \t\t Solucion por Metodos Numericos 44.8242868326\n",
      "Solucion Lineal: 32.0657652324 \t\t Solucion por Metodos Numericos 47.9689686121\n",
      "Solucion Lineal: 35.6417515631 \t\t Solucion por Metodos Numericos 49.9592150834\n",
      "Solucion Lineal: 38.6180709651 \t\t Solucion por Metodos Numericos 51.2188277547\n",
      "Solucion Lineal: 41.0952832258 \t\t Solucion por Metodos Numericos 52.0160275511\n",
      "Solucion Lineal: 43.1570849869 \t\t Solucion por Metodos Numericos 52.5205695661\n",
      "Solucion Lineal: 44.8731375713 \t\t Solucion por Metodos Numericos 52.8398905771\n",
      "Solucion Lineal: 46.3014206042 \t\t Solucion por Metodos Numericos 53.0419865473\n",
      "Solucion Lineal: 47.4901909486 \t\t Solucion por Metodos Numericos 53.1698916327"
     ]
    }
   ],
   "source": [
    "import math\n",
    "import matplotlib.pyplot as plt\n",
    "\n",
    "gravedad = 9.8\n",
    "masa = 68.1\n",
    "c = 12.5\n",
    "\n",
    "tiempo = 0\n",
    "tiempo_sig = 0\n",
    "\n",
    "velocidad_sig = 0\n",
    "velocidad_t = 0\n",
    "\n",
    "ejeX1 = []\n",
    "ejeY1 = []\n",
    "\n",
    "ejeX2 = []\n",
    "ejeY2 = []\n",
    "\n",
    "for t in range(50):\n",
    "    velocidad = ((gravedad*masa)/c)*(1-(math.exp((-c/masa)*t)))\n",
    "    velocidad_sig = velocidad_t+(gravedad-(c/masa)*velocidad_t)*(tiempo_sig-tiempo)\n",
    "    print \"Solucion Lineal: \"+str(velocidad)+\" \\t\\t Solucion por Metodos Numericos \"+str(velocidad_sig)\n",
    "\n",
    "    ejeX1.append(tiempo)\n",
    "    ejeY1.append(velocidad_sig)\n",
    "\n",
    "    ejeX2.append(t)\n",
    "    ejeY2.append(velocidad)\n",
    "\n",
    "    plt.plot(ejeX1,ejeY1)\n",
    "    plt.plot(ejeX2,ejeY2)\n",
    "\n",
    "    plt.xlabel('Tiempo ')\n",
    "    plt.ylabel('Velocidad ')\n",
    "\n",
    "\n",
    "\n",
    "    velocidad_t = velocidad_sig\n",
    "    tiempo = tiempo + 1\n",
    "    tiempo_sig = tiempo + 2\n",
    "    \n",
    "plt.show()"
   ]
  },
  {
   "cell_type": "code",
   "execution_count": null,
   "metadata": {
    "collapsed": true
   },
   "outputs": [],
   "source": []
  },
  {
   "cell_type": "code",
   "execution_count": null,
   "metadata": {
    "collapsed": true
   },
   "outputs": [],
   "source": []
  }
 ],
 "metadata": {
  "kernelspec": {
   "display_name": "Python 2",
   "language": "python",
   "name": "python2"
  },
  "language_info": {
   "codemirror_mode": {
    "name": "ipython",
    "version": 2
   },
   "file_extension": ".py",
   "mimetype": "text/x-python",
   "name": "python",
   "nbconvert_exporter": "python",
   "pygments_lexer": "ipython2",
   "version": "2.7.10"
  }
 },
 "nbformat": 4,
 "nbformat_minor": 0
}
